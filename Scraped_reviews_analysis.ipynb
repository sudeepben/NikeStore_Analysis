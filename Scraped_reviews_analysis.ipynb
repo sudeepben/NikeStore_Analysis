{
 "cells": [
  {
   "cell_type": "code",
   "execution_count": 2,
   "metadata": {},
   "outputs": [],
   "source": [
    "import requests\n",
    "from bs4 import BeautifulSoup\n",
    "from string import punctuation\n",
    "import re\n",
    "import pandas as pd\n",
    "import seaborn as sns\n",
    "import numpy as np\n",
    "import matplotlib.pyplot as plt\n",
    "import re\n",
    "import string\n",
    "import math\n",
    "import missingno as msno\n",
    "import nltk\n",
    "from nltk.corpus import stopwords\n",
    "from nltk.tokenize import word_tokenize \n",
    "from nltk.stem import wordnet, WordNetLemmatizer\n",
    "from sklearn.feature_extraction.text import TfidfVectorizer, CountVectorizer\n",
    "\n",
    "%matplotlib inline"
   ]
  },
  {
   "cell_type": "markdown",
   "metadata": {},
   "source": [
    "# web scraping"
   ]
  },
  {
   "cell_type": "code",
   "execution_count": 114,
   "metadata": {},
   "outputs": [
    {
     "name": "stdout",
     "output_type": "stream",
     "text": [
      "Enter URL with string -?page- in the last :https://www.trustpilot.com/review/www.nikestore.com?page=\n",
      "Enter number of pages:13\n",
      " Web scraping for reviews \n",
      "\n",
      "page number 5/ 13 is done.\n",
      "page number 10/ 13 is done.\n",
      "creating a dataframe \n",
      "\n",
      "created a dataframe \n",
      "\n",
      "formatetd the dataframe \n",
      "\n"
     ]
    },
    {
     "data": {
      "text/plain": [
       "<Figure size 432x288 with 0 Axes>"
      ]
     },
     "metadata": {},
     "output_type": "display_data"
    }
   ],
   "source": [
    "%run Web_scraping.py"
   ]
  },
  {
   "cell_type": "markdown",
   "metadata": {},
   "source": [
    "# load the data"
   ]
  },
  {
   "cell_type": "code",
   "execution_count": 115,
   "metadata": {},
   "outputs": [],
   "source": [
    "reviews_df = pd.read_csv('web_scraped.csv')"
   ]
  },
  {
   "cell_type": "code",
   "execution_count": 116,
   "metadata": {},
   "outputs": [
    {
     "data": {
      "text/html": [
       "<div>\n",
       "<style scoped>\n",
       "    .dataframe tbody tr th:only-of-type {\n",
       "        vertical-align: middle;\n",
       "    }\n",
       "\n",
       "    .dataframe tbody tr th {\n",
       "        vertical-align: top;\n",
       "    }\n",
       "\n",
       "    .dataframe thead th {\n",
       "        text-align: right;\n",
       "    }\n",
       "</style>\n",
       "<table border=\"1\" class=\"dataframe\">\n",
       "  <thead>\n",
       "    <tr style=\"text-align: right;\">\n",
       "      <th></th>\n",
       "      <th>Reviewer</th>\n",
       "      <th>Title</th>\n",
       "      <th>Content</th>\n",
       "      <th>Star_rating</th>\n",
       "      <th>Rating</th>\n",
       "      <th>Date</th>\n",
       "      <th>Reviews_posted</th>\n",
       "      <th>Location</th>\n",
       "    </tr>\n",
       "  </thead>\n",
       "  <tbody>\n",
       "    <tr>\n",
       "      <th>231</th>\n",
       "      <td>J.M.W</td>\n",
       "      <td>I recommend Nike.com</td>\n",
       "      <td>I give Nike.com 5 stars because they always sh...</td>\n",
       "      <td>5</td>\n",
       "      <td>Excellent</td>\n",
       "      <td>2017-05-04</td>\n",
       "      <td>7</td>\n",
       "      <td>United States</td>\n",
       "    </tr>\n",
       "    <tr>\n",
       "      <th>232</th>\n",
       "      <td>Josh Thompson</td>\n",
       "      <td>Great shoes and joggers!</td>\n",
       "      <td>NaN</td>\n",
       "      <td>4</td>\n",
       "      <td>Great</td>\n",
       "      <td>2017-04-18</td>\n",
       "      <td>43</td>\n",
       "      <td>United States</td>\n",
       "    </tr>\n",
       "    <tr>\n",
       "      <th>233</th>\n",
       "      <td>AndreasS</td>\n",
       "      <td>I bought very expensive running shoes …</td>\n",
       "      <td>I bought very expensive running shoes (180€). ...</td>\n",
       "      <td>1</td>\n",
       "      <td>Bad</td>\n",
       "      <td>2017-04-18</td>\n",
       "      <td>7</td>\n",
       "      <td>United States</td>\n",
       "    </tr>\n",
       "    <tr>\n",
       "      <th>234</th>\n",
       "      <td>Sam Matharu</td>\n",
       "      <td>Ordered a lot through this site and …</td>\n",
       "      <td>Ordered a lot through this site and always get...</td>\n",
       "      <td>5</td>\n",
       "      <td>Excellent</td>\n",
       "      <td>2017-04-07</td>\n",
       "      <td>3</td>\n",
       "      <td>United Kingdom</td>\n",
       "    </tr>\n",
       "    <tr>\n",
       "      <th>235</th>\n",
       "      <td>Pernille Hyttel</td>\n",
       "      <td>Great offers and fast delievery</td>\n",
       "      <td>A large variety of products and lot of great o...</td>\n",
       "      <td>5</td>\n",
       "      <td>Excellent</td>\n",
       "      <td>2011-05-13</td>\n",
       "      <td>29</td>\n",
       "      <td>Denmark</td>\n",
       "    </tr>\n",
       "  </tbody>\n",
       "</table>\n",
       "</div>"
      ],
      "text/plain": [
       "            Reviewer                                    Title  \\\n",
       "231            J.M.W                     I recommend Nike.com   \n",
       "232    Josh Thompson                 Great shoes and joggers!   \n",
       "233         AndreasS  I bought very expensive running shoes …   \n",
       "234      Sam Matharu    Ordered a lot through this site and …   \n",
       "235  Pernille Hyttel          Great offers and fast delievery   \n",
       "\n",
       "                                               Content  Star_rating  \\\n",
       "231  I give Nike.com 5 stars because they always sh...            5   \n",
       "232                                                NaN            4   \n",
       "233  I bought very expensive running shoes (180€). ...            1   \n",
       "234  Ordered a lot through this site and always get...            5   \n",
       "235  A large variety of products and lot of great o...            5   \n",
       "\n",
       "         Rating        Date  Reviews_posted        Location  \n",
       "231   Excellent  2017-05-04               7   United States  \n",
       "232       Great  2017-04-18              43   United States  \n",
       "233         Bad  2017-04-18               7   United States  \n",
       "234   Excellent  2017-04-07               3  United Kingdom  \n",
       "235   Excellent  2011-05-13              29         Denmark  "
      ]
     },
     "execution_count": 116,
     "metadata": {},
     "output_type": "execute_result"
    }
   ],
   "source": [
    "reviews_df.tail()"
   ]
  },
  {
   "cell_type": "markdown",
   "metadata": {},
   "source": [
    "## Data Understanding"
   ]
  },
  {
   "cell_type": "code",
   "execution_count": 117,
   "metadata": {},
   "outputs": [
    {
     "name": "stdout",
     "output_type": "stream",
     "text": [
      "<class 'pandas.core.frame.DataFrame'>\n",
      "RangeIndex: 236 entries, 0 to 235\n",
      "Data columns (total 8 columns):\n",
      "Reviewer          236 non-null object\n",
      "Title             236 non-null object\n",
      "Content           194 non-null object\n",
      "Star_rating       236 non-null int64\n",
      "Rating            236 non-null object\n",
      "Date              236 non-null object\n",
      "Reviews_posted    236 non-null int64\n",
      "Location          236 non-null object\n",
      "dtypes: int64(2), object(6)\n",
      "memory usage: 14.8+ KB\n"
     ]
    }
   ],
   "source": [
    "reviews_df.info()"
   ]
  },
  {
   "cell_type": "code",
   "execution_count": 118,
   "metadata": {},
   "outputs": [],
   "source": [
    "reviews_df[\"Date\"]= pd.to_datetime(reviews_df[\"Date\"]) "
   ]
  },
  {
   "cell_type": "code",
   "execution_count": 119,
   "metadata": {},
   "outputs": [
    {
     "data": {
      "text/html": [
       "<div>\n",
       "<style scoped>\n",
       "    .dataframe tbody tr th:only-of-type {\n",
       "        vertical-align: middle;\n",
       "    }\n",
       "\n",
       "    .dataframe tbody tr th {\n",
       "        vertical-align: top;\n",
       "    }\n",
       "\n",
       "    .dataframe thead th {\n",
       "        text-align: right;\n",
       "    }\n",
       "</style>\n",
       "<table border=\"1\" class=\"dataframe\">\n",
       "  <thead>\n",
       "    <tr style=\"text-align: right;\">\n",
       "      <th></th>\n",
       "      <th>Star_rating</th>\n",
       "      <th>Reviews_posted</th>\n",
       "    </tr>\n",
       "  </thead>\n",
       "  <tbody>\n",
       "    <tr>\n",
       "      <th>count</th>\n",
       "      <td>236.000000</td>\n",
       "      <td>236.000000</td>\n",
       "    </tr>\n",
       "    <tr>\n",
       "      <th>mean</th>\n",
       "      <td>3.322034</td>\n",
       "      <td>6.258475</td>\n",
       "    </tr>\n",
       "    <tr>\n",
       "      <th>std</th>\n",
       "      <td>1.749803</td>\n",
       "      <td>13.326862</td>\n",
       "    </tr>\n",
       "    <tr>\n",
       "      <th>min</th>\n",
       "      <td>1.000000</td>\n",
       "      <td>1.000000</td>\n",
       "    </tr>\n",
       "    <tr>\n",
       "      <th>25%</th>\n",
       "      <td>1.000000</td>\n",
       "      <td>2.000000</td>\n",
       "    </tr>\n",
       "    <tr>\n",
       "      <th>50%</th>\n",
       "      <td>4.000000</td>\n",
       "      <td>3.000000</td>\n",
       "    </tr>\n",
       "    <tr>\n",
       "      <th>75%</th>\n",
       "      <td>5.000000</td>\n",
       "      <td>6.000000</td>\n",
       "    </tr>\n",
       "    <tr>\n",
       "      <th>max</th>\n",
       "      <td>5.000000</td>\n",
       "      <td>145.000000</td>\n",
       "    </tr>\n",
       "  </tbody>\n",
       "</table>\n",
       "</div>"
      ],
      "text/plain": [
       "       Star_rating  Reviews_posted\n",
       "count   236.000000      236.000000\n",
       "mean      3.322034        6.258475\n",
       "std       1.749803       13.326862\n",
       "min       1.000000        1.000000\n",
       "25%       1.000000        2.000000\n",
       "50%       4.000000        3.000000\n",
       "75%       5.000000        6.000000\n",
       "max       5.000000      145.000000"
      ]
     },
     "execution_count": 119,
     "metadata": {},
     "output_type": "execute_result"
    }
   ],
   "source": [
    "reviews_df.describe()"
   ]
  },
  {
   "cell_type": "code",
   "execution_count": 120,
   "metadata": {},
   "outputs": [
    {
     "data": {
      "text/plain": [
       "Reviewer                  object\n",
       "Title                     object\n",
       "Content                   object\n",
       "Star_rating                int64\n",
       "Rating                    object\n",
       "Date              datetime64[ns]\n",
       "Reviews_posted             int64\n",
       "Location                  object\n",
       "dtype: object"
      ]
     },
     "execution_count": 120,
     "metadata": {},
     "output_type": "execute_result"
    }
   ],
   "source": [
    "reviews_df.dtypes"
   ]
  },
  {
   "cell_type": "markdown",
   "metadata": {},
   "source": [
    "## Data Cleansing"
   ]
  },
  {
   "cell_type": "code",
   "execution_count": 121,
   "metadata": {},
   "outputs": [
    {
     "data": {
      "image/png": "[encoded data removed]",
      "text/plain": [
       "<Figure size 1800x720 with 2 Axes>"
      ]
     },
     "metadata": {
      "needs_background": "light"
     },
     "output_type": "display_data"
    }
   ],
   "source": [
    "reviews_df.isnull().sum()\n",
    "msno.matrix(reviews_df);"
   ]
  },
  {
   "cell_type": "markdown",
   "metadata": {},
   "source": [
    "Review content are empty because the reviweres have only title without content. Those titles are copied to review contents"
   ]
  },
  {
   "cell_type": "code",
   "execution_count": 122,
   "metadata": {},
   "outputs": [
    {
     "data": {
      "text/plain": [
       "array(['United States', 'United Kingdom', 'Switzerland', 'Germany',\n",
       "       'Malaysia', 'Philippines', 'Netherlands', 'Croatia', 'Cameroon',\n",
       "       'France', 'South Africa', 'Hong Kong', 'Poland', 'Denmark',\n",
       "       'Australia', 'Ireland', 'Sweden', 'Kuwait', 'Canada', 'Norway',\n",
       "       'Czech Republic', 'Romania', 'Slovenia', 'New Zealand',\n",
       "       'Bangladesh', 'Mexico', 'Italy', 'U.A.E.', 'India', 'Austria',\n",
       "       'Ukraine', 'Sri Lanka', 'Slovakia', 'Morocco', 'Portugal',\n",
       "       'Turkey', 'Serbia', 'Brazil'], dtype=object)"
      ]
     },
     "execution_count": 122,
     "metadata": {},
     "output_type": "execute_result"
    }
   ],
   "source": [
    "reviews_df['Location'].unique()"
   ]
  },
  {
   "cell_type": "code",
   "execution_count": 123,
   "metadata": {},
   "outputs": [],
   "source": [
    "processed_df = reviews_df.copy()"
   ]
  },
  {
   "cell_type": "code",
   "execution_count": 124,
   "metadata": {},
   "outputs": [
    {
     "data": {
      "text/html": [
       "<div>\n",
       "<style scoped>\n",
       "    .dataframe tbody tr th:only-of-type {\n",
       "        vertical-align: middle;\n",
       "    }\n",
       "\n",
       "    .dataframe tbody tr th {\n",
       "        vertical-align: top;\n",
       "    }\n",
       "\n",
       "    .dataframe thead th {\n",
       "        text-align: right;\n",
       "    }\n",
       "</style>\n",
       "<table border=\"1\" class=\"dataframe\">\n",
       "  <thead>\n",
       "    <tr style=\"text-align: right;\">\n",
       "      <th></th>\n",
       "      <th>Reviewer</th>\n",
       "      <th>Title</th>\n",
       "      <th>Content</th>\n",
       "      <th>Star_rating</th>\n",
       "      <th>Rating</th>\n",
       "      <th>Date</th>\n",
       "      <th>Reviews_posted</th>\n",
       "      <th>Location</th>\n",
       "    </tr>\n",
       "  </thead>\n",
       "  <tbody>\n",
       "    <tr>\n",
       "      <th>4</th>\n",
       "      <td>Charles Nelson</td>\n",
       "      <td>bad service but good product</td>\n",
       "      <td>NaN</td>\n",
       "      <td>1</td>\n",
       "      <td>Bad</td>\n",
       "      <td>2020-12-21</td>\n",
       "      <td>1</td>\n",
       "      <td>United Kingdom</td>\n",
       "    </tr>\n",
       "    <tr>\n",
       "      <th>5</th>\n",
       "      <td>Craig Mathews</td>\n",
       "      <td>nice products</td>\n",
       "      <td>NaN</td>\n",
       "      <td>3</td>\n",
       "      <td>Average</td>\n",
       "      <td>2020-12-21</td>\n",
       "      <td>1</td>\n",
       "      <td>United Kingdom</td>\n",
       "    </tr>\n",
       "    <tr>\n",
       "      <th>10</th>\n",
       "      <td>Jay Jay</td>\n",
       "      <td>Didn't recieve my order - heard nothing back f...</td>\n",
       "      <td>NaN</td>\n",
       "      <td>1</td>\n",
       "      <td>Bad</td>\n",
       "      <td>2020-12-06</td>\n",
       "      <td>50</td>\n",
       "      <td>United Kingdom</td>\n",
       "    </tr>\n",
       "    <tr>\n",
       "      <th>23</th>\n",
       "      <td>Chris Hartman</td>\n",
       "      <td>Nice shoes and very comfortable</td>\n",
       "      <td>NaN</td>\n",
       "      <td>4</td>\n",
       "      <td>Great</td>\n",
       "      <td>2020-11-16</td>\n",
       "      <td>1</td>\n",
       "      <td>United States</td>\n",
       "    </tr>\n",
       "    <tr>\n",
       "      <th>26</th>\n",
       "      <td>James Obrien</td>\n",
       "      <td>Nice and comfortable shoes</td>\n",
       "      <td>NaN</td>\n",
       "      <td>3</td>\n",
       "      <td>Average</td>\n",
       "      <td>2020-11-13</td>\n",
       "      <td>1</td>\n",
       "      <td>United States</td>\n",
       "    </tr>\n",
       "    <tr>\n",
       "      <th>27</th>\n",
       "      <td>Robert Skinner</td>\n",
       "      <td>Nice shoes and comfortable to wear</td>\n",
       "      <td>NaN</td>\n",
       "      <td>3</td>\n",
       "      <td>Average</td>\n",
       "      <td>2020-11-13</td>\n",
       "      <td>1</td>\n",
       "      <td>United States</td>\n",
       "    </tr>\n",
       "    <tr>\n",
       "      <th>29</th>\n",
       "      <td>Roy Hale</td>\n",
       "      <td>I love the products here</td>\n",
       "      <td>NaN</td>\n",
       "      <td>5</td>\n",
       "      <td>Excellent</td>\n",
       "      <td>2020-11-11</td>\n",
       "      <td>2</td>\n",
       "      <td>United States</td>\n",
       "    </tr>\n",
       "    <tr>\n",
       "      <th>31</th>\n",
       "      <td>Oliva Jones</td>\n",
       "      <td>Good store and fast shipping</td>\n",
       "      <td>NaN</td>\n",
       "      <td>5</td>\n",
       "      <td>Excellent</td>\n",
       "      <td>2020-11-08</td>\n",
       "      <td>4</td>\n",
       "      <td>United States</td>\n",
       "    </tr>\n",
       "    <tr>\n",
       "      <th>34</th>\n",
       "      <td>Lili</td>\n",
       "      <td>I like so much my new nikes</td>\n",
       "      <td>NaN</td>\n",
       "      <td>4</td>\n",
       "      <td>Great</td>\n",
       "      <td>2020-10-29</td>\n",
       "      <td>3</td>\n",
       "      <td>France</td>\n",
       "    </tr>\n",
       "    <tr>\n",
       "      <th>35</th>\n",
       "      <td>Brian Jackson</td>\n",
       "      <td>Really good online shopping</td>\n",
       "      <td>NaN</td>\n",
       "      <td>5</td>\n",
       "      <td>Excellent</td>\n",
       "      <td>2020-10-28</td>\n",
       "      <td>6</td>\n",
       "      <td>United States</td>\n",
       "    </tr>\n",
       "    <tr>\n",
       "      <th>37</th>\n",
       "      <td>David Seals</td>\n",
       "      <td>Nice and comfortable shoes.</td>\n",
       "      <td>NaN</td>\n",
       "      <td>4</td>\n",
       "      <td>Great</td>\n",
       "      <td>2020-10-27</td>\n",
       "      <td>3</td>\n",
       "      <td>United States</td>\n",
       "    </tr>\n",
       "    <tr>\n",
       "      <th>39</th>\n",
       "      <td>Alan Zink</td>\n",
       "      <td>Comfortable to wear</td>\n",
       "      <td>NaN</td>\n",
       "      <td>3</td>\n",
       "      <td>Average</td>\n",
       "      <td>2020-10-26</td>\n",
       "      <td>3</td>\n",
       "      <td>United States</td>\n",
       "    </tr>\n",
       "    <tr>\n",
       "      <th>40</th>\n",
       "      <td>Claude Dones</td>\n",
       "      <td>Very good shoes I like it very much</td>\n",
       "      <td>NaN</td>\n",
       "      <td>4</td>\n",
       "      <td>Great</td>\n",
       "      <td>2020-10-26</td>\n",
       "      <td>3</td>\n",
       "      <td>United States</td>\n",
       "    </tr>\n",
       "    <tr>\n",
       "      <th>49</th>\n",
       "      <td>Idella Friesen</td>\n",
       "      <td>A brand you can wear with confidence.</td>\n",
       "      <td>NaN</td>\n",
       "      <td>5</td>\n",
       "      <td>Excellent</td>\n",
       "      <td>2020-10-15</td>\n",
       "      <td>3</td>\n",
       "      <td>Australia</td>\n",
       "    </tr>\n",
       "    <tr>\n",
       "      <th>54</th>\n",
       "      <td>Natalie</td>\n",
       "      <td>Very happy with service and quality</td>\n",
       "      <td>NaN</td>\n",
       "      <td>4</td>\n",
       "      <td>Great</td>\n",
       "      <td>2020-10-05</td>\n",
       "      <td>3</td>\n",
       "      <td>United States</td>\n",
       "    </tr>\n",
       "    <tr>\n",
       "      <th>57</th>\n",
       "      <td>Jack</td>\n",
       "      <td>Very nice one</td>\n",
       "      <td>NaN</td>\n",
       "      <td>4</td>\n",
       "      <td>Great</td>\n",
       "      <td>2020-09-24</td>\n",
       "      <td>3</td>\n",
       "      <td>France</td>\n",
       "    </tr>\n",
       "    <tr>\n",
       "      <th>59</th>\n",
       "      <td>Aydin</td>\n",
       "      <td>waiting to long for delivery</td>\n",
       "      <td>NaN</td>\n",
       "      <td>4</td>\n",
       "      <td>Great</td>\n",
       "      <td>2020-09-24</td>\n",
       "      <td>4</td>\n",
       "      <td>Kuwait</td>\n",
       "    </tr>\n",
       "    <tr>\n",
       "      <th>66</th>\n",
       "      <td>Josh Warren</td>\n",
       "      <td>Took forever to get my shoes!</td>\n",
       "      <td>NaN</td>\n",
       "      <td>2</td>\n",
       "      <td>Poor</td>\n",
       "      <td>2020-09-10</td>\n",
       "      <td>2</td>\n",
       "      <td>United States</td>\n",
       "    </tr>\n",
       "    <tr>\n",
       "      <th>67</th>\n",
       "      <td>Durval</td>\n",
       "      <td>Took a month to get my stuff not happy</td>\n",
       "      <td>NaN</td>\n",
       "      <td>2</td>\n",
       "      <td>Poor</td>\n",
       "      <td>2020-09-10</td>\n",
       "      <td>1</td>\n",
       "      <td>Czech Republic</td>\n",
       "    </tr>\n",
       "    <tr>\n",
       "      <th>72</th>\n",
       "      <td>Pavel Tanase</td>\n",
       "      <td>Found my favorite shoes on sale 💣💪</td>\n",
       "      <td>NaN</td>\n",
       "      <td>5</td>\n",
       "      <td>Excellent</td>\n",
       "      <td>2020-09-01</td>\n",
       "      <td>3</td>\n",
       "      <td>Romania</td>\n",
       "    </tr>\n",
       "    <tr>\n",
       "      <th>90</th>\n",
       "      <td>Jiao J.</td>\n",
       "      <td>great lightweight shoes for the gym</td>\n",
       "      <td>NaN</td>\n",
       "      <td>5</td>\n",
       "      <td>Excellent</td>\n",
       "      <td>2020-07-20</td>\n",
       "      <td>1</td>\n",
       "      <td>Canada</td>\n",
       "    </tr>\n",
       "    <tr>\n",
       "      <th>95</th>\n",
       "      <td>Luke Weber</td>\n",
       "      <td>amasing products</td>\n",
       "      <td>NaN</td>\n",
       "      <td>5</td>\n",
       "      <td>Excellent</td>\n",
       "      <td>2020-07-13</td>\n",
       "      <td>4</td>\n",
       "      <td>Switzerland</td>\n",
       "    </tr>\n",
       "    <tr>\n",
       "      <th>128</th>\n",
       "      <td>Haroon Mohammed</td>\n",
       "      <td>Very good store</td>\n",
       "      <td>NaN</td>\n",
       "      <td>5</td>\n",
       "      <td>Excellent</td>\n",
       "      <td>2020-05-18</td>\n",
       "      <td>2</td>\n",
       "      <td>U.A.E.</td>\n",
       "    </tr>\n",
       "    <tr>\n",
       "      <th>141</th>\n",
       "      <td>Rolf Guillmin</td>\n",
       "      <td>Late delivery!</td>\n",
       "      <td>NaN</td>\n",
       "      <td>3</td>\n",
       "      <td>Average</td>\n",
       "      <td>2020-05-02</td>\n",
       "      <td>3</td>\n",
       "      <td>France</td>\n",
       "    </tr>\n",
       "    <tr>\n",
       "      <th>142</th>\n",
       "      <td>Gary Bowie</td>\n",
       "      <td>Best way shop</td>\n",
       "      <td>NaN</td>\n",
       "      <td>5</td>\n",
       "      <td>Excellent</td>\n",
       "      <td>2020-05-01</td>\n",
       "      <td>1</td>\n",
       "      <td>United States</td>\n",
       "    </tr>\n",
       "    <tr>\n",
       "      <th>149</th>\n",
       "      <td>ALEXANDRIA WHITE</td>\n",
       "      <td>All i got to say is i love nike.</td>\n",
       "      <td>NaN</td>\n",
       "      <td>4</td>\n",
       "      <td>Great</td>\n",
       "      <td>2020-04-16</td>\n",
       "      <td>2</td>\n",
       "      <td>United States</td>\n",
       "    </tr>\n",
       "    <tr>\n",
       "      <th>151</th>\n",
       "      <td>Deen Guzman</td>\n",
       "      <td>okay i guess.</td>\n",
       "      <td>NaN</td>\n",
       "      <td>4</td>\n",
       "      <td>Great</td>\n",
       "      <td>2020-04-12</td>\n",
       "      <td>1</td>\n",
       "      <td>United States</td>\n",
       "    </tr>\n",
       "    <tr>\n",
       "      <th>152</th>\n",
       "      <td>Ryland Schloerb</td>\n",
       "      <td>It’s dope I just got new shoes</td>\n",
       "      <td>NaN</td>\n",
       "      <td>5</td>\n",
       "      <td>Excellent</td>\n",
       "      <td>2020-04-11</td>\n",
       "      <td>1</td>\n",
       "      <td>United States</td>\n",
       "    </tr>\n",
       "    <tr>\n",
       "      <th>153</th>\n",
       "      <td>Corey</td>\n",
       "      <td>V good recurved good on time</td>\n",
       "      <td>NaN</td>\n",
       "      <td>5</td>\n",
       "      <td>Excellent</td>\n",
       "      <td>2020-04-07</td>\n",
       "      <td>3</td>\n",
       "      <td>Ireland</td>\n",
       "    </tr>\n",
       "    <tr>\n",
       "      <th>156</th>\n",
       "      <td>Ricardo Rinda</td>\n",
       "      <td>Decent service</td>\n",
       "      <td>NaN</td>\n",
       "      <td>3</td>\n",
       "      <td>Average</td>\n",
       "      <td>2020-03-27</td>\n",
       "      <td>2</td>\n",
       "      <td>United Kingdom</td>\n",
       "    </tr>\n",
       "    <tr>\n",
       "      <th>165</th>\n",
       "      <td>Richard Aldrin</td>\n",
       "      <td>Great retail experience</td>\n",
       "      <td>NaN</td>\n",
       "      <td>5</td>\n",
       "      <td>Excellent</td>\n",
       "      <td>2020-03-06</td>\n",
       "      <td>5</td>\n",
       "      <td>United Kingdom</td>\n",
       "    </tr>\n",
       "    <tr>\n",
       "      <th>166</th>\n",
       "      <td>Brandon Beach</td>\n",
       "      <td>I love their sneaker selection.</td>\n",
       "      <td>NaN</td>\n",
       "      <td>5</td>\n",
       "      <td>Excellent</td>\n",
       "      <td>2020-02-28</td>\n",
       "      <td>3</td>\n",
       "      <td>United States</td>\n",
       "    </tr>\n",
       "    <tr>\n",
       "      <th>167</th>\n",
       "      <td>Bob Schlueter</td>\n",
       "      <td>great sb sneakers</td>\n",
       "      <td>NaN</td>\n",
       "      <td>1</td>\n",
       "      <td>Bad</td>\n",
       "      <td>2020-02-22</td>\n",
       "      <td>4</td>\n",
       "      <td>United States</td>\n",
       "    </tr>\n",
       "    <tr>\n",
       "      <th>175</th>\n",
       "      <td>Paul Martson</td>\n",
       "      <td>Incredible awesome as always :)</td>\n",
       "      <td>NaN</td>\n",
       "      <td>5</td>\n",
       "      <td>Excellent</td>\n",
       "      <td>2020-01-11</td>\n",
       "      <td>1</td>\n",
       "      <td>United States</td>\n",
       "    </tr>\n",
       "    <tr>\n",
       "      <th>179</th>\n",
       "      <td>Innovation Designs</td>\n",
       "      <td>Great products</td>\n",
       "      <td>NaN</td>\n",
       "      <td>5</td>\n",
       "      <td>Excellent</td>\n",
       "      <td>2019-11-28</td>\n",
       "      <td>2</td>\n",
       "      <td>United Kingdom</td>\n",
       "    </tr>\n",
       "    <tr>\n",
       "      <th>207</th>\n",
       "      <td>Toya James</td>\n",
       "      <td>best saleperson ever...thanks again</td>\n",
       "      <td>NaN</td>\n",
       "      <td>5</td>\n",
       "      <td>Excellent</td>\n",
       "      <td>2018-08-31</td>\n",
       "      <td>11</td>\n",
       "      <td>United States</td>\n",
       "    </tr>\n",
       "    <tr>\n",
       "      <th>211</th>\n",
       "      <td>brent moore</td>\n",
       "      <td>not service dog-friendly</td>\n",
       "      <td>NaN</td>\n",
       "      <td>1</td>\n",
       "      <td>Bad</td>\n",
       "      <td>2018-04-29</td>\n",
       "      <td>1</td>\n",
       "      <td>Canada</td>\n",
       "    </tr>\n",
       "    <tr>\n",
       "      <th>220</th>\n",
       "      <td>Jan Sorensen</td>\n",
       "      <td>Got everything</td>\n",
       "      <td>NaN</td>\n",
       "      <td>3</td>\n",
       "      <td>Average</td>\n",
       "      <td>2017-09-19</td>\n",
       "      <td>3</td>\n",
       "      <td>United States</td>\n",
       "    </tr>\n",
       "    <tr>\n",
       "      <th>225</th>\n",
       "      <td>Konstantinos R.</td>\n",
       "      <td>love all the ones I had</td>\n",
       "      <td>NaN</td>\n",
       "      <td>5</td>\n",
       "      <td>Excellent</td>\n",
       "      <td>2017-08-08</td>\n",
       "      <td>4</td>\n",
       "      <td>Brazil</td>\n",
       "    </tr>\n",
       "    <tr>\n",
       "      <th>226</th>\n",
       "      <td>Anne-Britt Vergouwe</td>\n",
       "      <td>DESIGNS ARE REALLY GREAT!</td>\n",
       "      <td>NaN</td>\n",
       "      <td>5</td>\n",
       "      <td>Excellent</td>\n",
       "      <td>2017-07-24</td>\n",
       "      <td>2</td>\n",
       "      <td>Philippines</td>\n",
       "    </tr>\n",
       "    <tr>\n",
       "      <th>228</th>\n",
       "      <td>Onzo Bill</td>\n",
       "      <td>4 star for nike and 5 for adidas</td>\n",
       "      <td>NaN</td>\n",
       "      <td>4</td>\n",
       "      <td>Great</td>\n",
       "      <td>2017-07-07</td>\n",
       "      <td>6</td>\n",
       "      <td>United Kingdom</td>\n",
       "    </tr>\n",
       "    <tr>\n",
       "      <th>232</th>\n",
       "      <td>Josh Thompson</td>\n",
       "      <td>Great shoes and joggers!</td>\n",
       "      <td>NaN</td>\n",
       "      <td>4</td>\n",
       "      <td>Great</td>\n",
       "      <td>2017-04-18</td>\n",
       "      <td>43</td>\n",
       "      <td>United States</td>\n",
       "    </tr>\n",
       "  </tbody>\n",
       "</table>\n",
       "</div>"
      ],
      "text/plain": [
       "                Reviewer                                              Title  \\\n",
       "4         Charles Nelson                       bad service but good product   \n",
       "5          Craig Mathews                                      nice products   \n",
       "10               Jay Jay  Didn't recieve my order - heard nothing back f...   \n",
       "23         Chris Hartman                    Nice shoes and very comfortable   \n",
       "26          James Obrien                         Nice and comfortable shoes   \n",
       "27        Robert Skinner                 Nice shoes and comfortable to wear   \n",
       "29              Roy Hale                           I love the products here   \n",
       "31           Oliva Jones                       Good store and fast shipping   \n",
       "34                  Lili                        I like so much my new nikes   \n",
       "35         Brian Jackson                        Really good online shopping   \n",
       "37           David Seals                        Nice and comfortable shoes.   \n",
       "39             Alan Zink                                Comfortable to wear   \n",
       "40          Claude Dones                Very good shoes I like it very much   \n",
       "49        Idella Friesen              A brand you can wear with confidence.   \n",
       "54               Natalie                Very happy with service and quality   \n",
       "57                  Jack                                      Very nice one   \n",
       "59                 Aydin                       waiting to long for delivery   \n",
       "66           Josh Warren                      Took forever to get my shoes!   \n",
       "67                Durval             Took a month to get my stuff not happy   \n",
       "72          Pavel Tanase                 Found my favorite shoes on sale 💣💪   \n",
       "90               Jiao J.                great lightweight shoes for the gym   \n",
       "95            Luke Weber                                   amasing products   \n",
       "128      Haroon Mohammed                                    Very good store   \n",
       "141        Rolf Guillmin                                     Late delivery!   \n",
       "142           Gary Bowie                                      Best way shop   \n",
       "149     ALEXANDRIA WHITE                   All i got to say is i love nike.   \n",
       "151          Deen Guzman                                      okay i guess.   \n",
       "152      Ryland Schloerb                     It’s dope I just got new shoes   \n",
       "153                Corey                       V good recurved good on time   \n",
       "156        Ricardo Rinda                                     Decent service   \n",
       "165       Richard Aldrin                            Great retail experience   \n",
       "166        Brandon Beach                    I love their sneaker selection.   \n",
       "167        Bob Schlueter                                  great sb sneakers   \n",
       "175         Paul Martson                    Incredible awesome as always :)   \n",
       "179   Innovation Designs                                     Great products   \n",
       "207           Toya James                best saleperson ever...thanks again   \n",
       "211          brent moore                           not service dog-friendly   \n",
       "220         Jan Sorensen                                     Got everything   \n",
       "225      Konstantinos R.                            love all the ones I had   \n",
       "226  Anne-Britt Vergouwe                          DESIGNS ARE REALLY GREAT!   \n",
       "228            Onzo Bill                   4 star for nike and 5 for adidas   \n",
       "232        Josh Thompson                           Great shoes and joggers!   \n",
       "\n",
       "    Content  Star_rating      Rating       Date  Reviews_posted  \\\n",
       "4       NaN            1         Bad 2020-12-21               1   \n",
       "5       NaN            3     Average 2020-12-21               1   \n",
       "10      NaN            1         Bad 2020-12-06              50   \n",
       "23      NaN            4       Great 2020-11-16               1   \n",
       "26      NaN            3     Average 2020-11-13               1   \n",
       "27      NaN            3     Average 2020-11-13               1   \n",
       "29      NaN            5   Excellent 2020-11-11               2   \n",
       "31      NaN            5   Excellent 2020-11-08               4   \n",
       "34      NaN            4       Great 2020-10-29               3   \n",
       "35      NaN            5   Excellent 2020-10-28               6   \n",
       "37      NaN            4       Great 2020-10-27               3   \n",
       "39      NaN            3     Average 2020-10-26               3   \n",
       "40      NaN            4       Great 2020-10-26               3   \n",
       "49      NaN            5   Excellent 2020-10-15               3   \n",
       "54      NaN            4       Great 2020-10-05               3   \n",
       "57      NaN            4       Great 2020-09-24               3   \n",
       "59      NaN            4       Great 2020-09-24               4   \n",
       "66      NaN            2        Poor 2020-09-10               2   \n",
       "67      NaN            2        Poor 2020-09-10               1   \n",
       "72      NaN            5   Excellent 2020-09-01               3   \n",
       "90      NaN            5   Excellent 2020-07-20               1   \n",
       "95      NaN            5   Excellent 2020-07-13               4   \n",
       "128     NaN            5   Excellent 2020-05-18               2   \n",
       "141     NaN            3     Average 2020-05-02               3   \n",
       "142     NaN            5   Excellent 2020-05-01               1   \n",
       "149     NaN            4       Great 2020-04-16               2   \n",
       "151     NaN            4       Great 2020-04-12               1   \n",
       "152     NaN            5   Excellent 2020-04-11               1   \n",
       "153     NaN            5   Excellent 2020-04-07               3   \n",
       "156     NaN            3     Average 2020-03-27               2   \n",
       "165     NaN            5   Excellent 2020-03-06               5   \n",
       "166     NaN            5   Excellent 2020-02-28               3   \n",
       "167     NaN            1         Bad 2020-02-22               4   \n",
       "175     NaN            5   Excellent 2020-01-11               1   \n",
       "179     NaN            5   Excellent 2019-11-28               2   \n",
       "207     NaN            5   Excellent 2018-08-31              11   \n",
       "211     NaN            1         Bad 2018-04-29               1   \n",
       "220     NaN            3     Average 2017-09-19               3   \n",
       "225     NaN            5   Excellent 2017-08-08               4   \n",
       "226     NaN            5   Excellent 2017-07-24               2   \n",
       "228     NaN            4       Great 2017-07-07               6   \n",
       "232     NaN            4       Great 2017-04-18              43   \n",
       "\n",
       "           Location  \n",
       "4    United Kingdom  \n",
       "5    United Kingdom  \n",
       "10   United Kingdom  \n",
       "23    United States  \n",
       "26    United States  \n",
       "27    United States  \n",
       "29    United States  \n",
       "31    United States  \n",
       "34           France  \n",
       "35    United States  \n",
       "37    United States  \n",
       "39    United States  \n",
       "40    United States  \n",
       "49        Australia  \n",
       "54    United States  \n",
       "57           France  \n",
       "59           Kuwait  \n",
       "66    United States  \n",
       "67   Czech Republic  \n",
       "72          Romania  \n",
       "90           Canada  \n",
       "95      Switzerland  \n",
       "128          U.A.E.  \n",
       "141          France  \n",
       "142   United States  \n",
       "149   United States  \n",
       "151   United States  \n",
       "152   United States  \n",
       "153         Ireland  \n",
       "156  United Kingdom  \n",
       "165  United Kingdom  \n",
       "166   United States  \n",
       "167   United States  \n",
       "175   United States  \n",
       "179  United Kingdom  \n",
       "207   United States  \n",
       "211          Canada  \n",
       "220   United States  \n",
       "225          Brazil  \n",
       "226     Philippines  \n",
       "228  United Kingdom  \n",
       "232   United States  "
      ]
     },
     "execution_count": 124,
     "metadata": {},
     "output_type": "execute_result"
    }
   ],
   "source": [
    "# check null values\n",
    "processed_df[processed_df.isnull().any(axis=1)]"
   ]
  },
  {
   "cell_type": "code",
   "execution_count": 125,
   "metadata": {},
   "outputs": [],
   "source": [
    "# fill content colum null values with Title values\n",
    "processed_df['Content'] = processed_df['Content'].fillna(processed_df['Title'])"
   ]
  },
  {
   "cell_type": "code",
   "execution_count": 126,
   "metadata": {},
   "outputs": [
    {
     "data": {
      "text/html": [
       "<div>\n",
       "<style scoped>\n",
       "    .dataframe tbody tr th:only-of-type {\n",
       "        vertical-align: middle;\n",
       "    }\n",
       "\n",
       "    .dataframe tbody tr th {\n",
       "        vertical-align: top;\n",
       "    }\n",
       "\n",
       "    .dataframe thead th {\n",
       "        text-align: right;\n",
       "    }\n",
       "</style>\n",
       "<table border=\"1\" class=\"dataframe\">\n",
       "  <thead>\n",
       "    <tr style=\"text-align: right;\">\n",
       "      <th></th>\n",
       "      <th>Reviewer</th>\n",
       "      <th>Title</th>\n",
       "      <th>Content</th>\n",
       "      <th>Star_rating</th>\n",
       "      <th>Rating</th>\n",
       "      <th>Date</th>\n",
       "      <th>Reviews_posted</th>\n",
       "      <th>Location</th>\n",
       "    </tr>\n",
       "  </thead>\n",
       "  <tbody>\n",
       "  </tbody>\n",
       "</table>\n",
       "</div>"
      ],
      "text/plain": [
       "Empty DataFrame\n",
       "Columns: [Reviewer, Title, Content, Star_rating, Rating, Date, Reviews_posted, Location]\n",
       "Index: []"
      ]
     },
     "execution_count": 126,
     "metadata": {},
     "output_type": "execute_result"
    }
   ],
   "source": [
    "# check remaining values\n",
    "processed_df[processed_df.isnull().any(axis=1)]"
   ]
  },
  {
   "cell_type": "code",
   "execution_count": 127,
   "metadata": {},
   "outputs": [
    {
     "data": {
      "image/png": "[encoded data removed]",
      "text/plain": [
       "<Figure size 1800x720 with 2 Axes>"
      ]
     },
     "metadata": {
      "needs_background": "light"
     },
     "output_type": "display_data"
    }
   ],
   "source": [
    "processed_df.isnull().any()\n",
    "msno.matrix(processed_df);"
   ]
  },
  {
   "cell_type": "markdown",
   "metadata": {},
   "source": [
    "## Data pre-processing"
   ]
  },
  {
   "cell_type": "code",
   "execution_count": 128,
   "metadata": {},
   "outputs": [],
   "source": [
    "# lower case\n",
    "processed_df['cleaned']=processed_df['Content'].apply(lambda x: x.lower())\n",
    "\n",
    "# Remove digits and words containing digits\n",
    "processed_df['cleaned']=processed_df['cleaned'].apply(lambda x: re.sub('\\w*\\d\\w*','', x))\n",
    "\n",
    "# Remove Punctuations\n",
    "processed_df['cleaned']=processed_df['cleaned'].apply(lambda x: re.sub(\"[\"+string.punctuation+\"]\", \" \", x))\n",
    "\n",
    "# Remove numerical \n",
    "processed_df['cleaned']=processed_df['cleaned'].apply(lambda x: re.sub(\"^\\d+\\s|\\s\\d+\\s|\\s\\d+$\", \" \", x))\n",
    "\n",
    "# special_char_map = {ord('ä'):'ae', ord('ü'):'ue', ord('ö'):'oe', ord('ß'):'ss'}\n",
    "# processed_df['cleaned']=processed_df['cleaned'].apply(lambda x: x.translate(special_char_map))\n",
    "\n",
    "# Removing extra spaces\n",
    "processed_df['cleaned'] = processed_df['cleaned'].apply(lambda x: re.sub(' +',' ',x))\n",
    "\n",
    "# Stopwords Removal\n",
    "processed_df['cleaned'] = processed_df['cleaned'].apply(lambda x: ' '.join(word for word in x.split() if word not in stopwords.words('english')))\n",
    "\n",
    "# remove words less than 3 letters\n",
    "processed_df['cleaned'] = processed_df['cleaned'].apply(lambda x: ' '.join([word for word in x.split() if len(word)>3]))\n",
    "\n",
    "# lemmitized\n",
    "processed_df['lemmatized']=processed_df['cleaned'].apply(lambda x: ' '.join([WordNetLemmatizer().lemmatize(word, 'v') for word in x.split() ]))"
   ]
  },
  {
   "cell_type": "markdown",
   "metadata": {},
   "source": [
    "# EDA"
   ]
  },
  {
   "cell_type": "code",
   "execution_count": 129,
   "metadata": {},
   "outputs": [
    {
     "data": {
      "image/png": "[encoded data removed]",
      "text/plain": [
       "<Figure size 432x288 with 1 Axes>"
      ]
     },
     "metadata": {
      "needs_background": "light"
     },
     "output_type": "display_data"
    }
   ],
   "source": [
    "# star rating count\n",
    "# processed_df.Star_rating.value_counts().plot(kind='bar')\n",
    "sns.countplot(processed_df.Star_rating);\n",
    "plt.title('Rating distribution');"
   ]
  },
  {
   "cell_type": "markdown",
   "metadata": {},
   "source": [
    "Star rating shows most of the positive rating and followed by negative one"
   ]
  },
  {
   "cell_type": "code",
   "execution_count": 146,
   "metadata": {},
   "outputs": [
    {
     "data": {
      "image/png": "[encoded data removed]",
      "text/plain": [
       "<Figure size 2016x1080 with 1 Axes>"
      ]
     },
     "metadata": {
      "needs_background": "light"
     },
     "output_type": "display_data"
    }
   ],
   "source": [
    "# count by location wise\n",
    "processed_df.groupby('Location')['Location'].agg('count').sort_index( ascending=True).plot(kind='barh',figsize=(28, 15));\n",
    "plt.title('Location count wise');"
   ]
  },
  {
   "cell_type": "markdown",
   "metadata": {},
   "source": [
    "Since US is the established country and has the most of the reviews and followed by UK and European countries"
   ]
  },
  {
   "cell_type": "code",
   "execution_count": 148,
   "metadata": {},
   "outputs": [
    {
     "data": {
      "image/png": "[encoded data removed]",
      "text/plain": [
       "<Figure size 1152x360 with 1 Axes>"
      ]
     },
     "metadata": {
      "needs_background": "light"
     },
     "output_type": "display_data"
    }
   ],
   "source": [
    "processed_df.groupby(processed_df.Date.dt.year)['Star_rating'].agg('count').plot(kind='line', figsize=(16, 5), lw=4, style='.-');\n",
    "plt.title('year wise reviews count');"
   ]
  },
  {
   "cell_type": "code",
   "execution_count": 149,
   "metadata": {},
   "outputs": [
    {
     "data": {
      "image/png": "[encoded data removed]",
      "text/plain": [
       "<Figure size 1152x360 with 1 Axes>"
      ]
     },
     "metadata": {
      "needs_background": "light"
     },
     "output_type": "display_data"
    }
   ],
   "source": [
    "processed_df.groupby(processed_df.Date.dt.year)['Star_rating'].agg('mean').plot(kind='line', figsize=(16, 5), lw=4, style='.-');\n",
    "plt.title('Average rating for each year');"
   ]
  },
  {
   "cell_type": "markdown",
   "metadata": {},
   "source": [
    "In 2011-2017,  seems to have negative trend 2018 and 2019 sees a drastic decrease and its increasing currently which seems to be a positive sign"
   ]
  },
  {
   "cell_type": "markdown",
   "metadata": {},
   "source": [
    "# Natural language processing"
   ]
  },
  {
   "cell_type": "code",
   "execution_count": 150,
   "metadata": {},
   "outputs": [
    {
     "data": {
      "text/plain": [
       "TfidfVectorizer(analyzer='word', binary=False, decode_error='strict',\n",
       "        dtype=<class 'numpy.float64'>, encoding='utf-8', input='content',\n",
       "        lowercase=True, max_df=0.9, max_features=None, min_df=1,\n",
       "        ngram_range=(1, 3), norm='l2', preprocessor=None, smooth_idf=True,\n",
       "        stop_words='english', strip_accents=None, sublinear_tf=False,\n",
       "        token_pattern='(?u)\\\\b\\\\w\\\\w+\\\\b', tokenizer=None, use_idf=True,\n",
       "        vocabulary=None)"
      ]
     },
     "execution_count": 150,
     "metadata": {},
     "output_type": "execute_result"
    }
   ],
   "source": [
    "tfidf = TfidfVectorizer(max_df=0.90,stop_words='english', ngram_range=(1,3))\n",
    "tfidf.fit(processed_df['lemmatized'])"
   ]
  },
  {
   "cell_type": "code",
   "execution_count": 151,
   "metadata": {},
   "outputs": [
    {
     "data": {
      "text/plain": [
       "['easy',\n",
       " 'website',\n",
       " 'fast',\n",
       " 'ship',\n",
       " 'wonderful',\n",
       " 'customer',\n",
       " 'service',\n",
       " 'great',\n",
       " 'experience',\n",
       " 'easy website',\n",
       " 'website fast',\n",
       " 'fast ship',\n",
       " 'ship wonderful',\n",
       " 'wonderful customer',\n",
       " 'customer service',\n",
       " 'service great',\n",
       " 'great experience',\n",
       " 'easy website fast',\n",
       " 'website fast ship',\n",
       " 'fast ship wonderful']"
      ]
     },
     "execution_count": 151,
     "metadata": {},
     "output_type": "execute_result"
    }
   ],
   "source": [
    "top_20 = list(tfidf.vocabulary_)[:20]\n",
    "top_20"
   ]
  },
  {
   "cell_type": "markdown",
   "metadata": {},
   "source": [
    "The words are repeated in the reviews and talks much about their experiences. since positive ratings are higher and tokenize words give clear idea from vocabulary about it. The words such as easy, fast, experience, regarding shipping, website usage, etc..."
   ]
  },
  {
   "cell_type": "code",
   "execution_count": null,
   "metadata": {},
   "outputs": [],
   "source": []
  }
 ],
 "metadata": {
  "kernelspec": {
   "display_name": "Python 3",
   "language": "python",
   "name": "python3"
  },
  "language_info": {
   "codemirror_mode": {
    "name": "ipython",
    "version": 3
   },
   "file_extension": ".py",
   "mimetype": "text/x-python",
   "name": "python",
   "nbconvert_exporter": "python",
   "pygments_lexer": "ipython3",
   "version": "3.7.3"
  }
 },
 "nbformat": 4,
 "nbformat_minor": 2
}
